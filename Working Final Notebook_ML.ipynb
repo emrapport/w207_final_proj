{
 "cells": [
  {
   "cell_type": "markdown",
   "metadata": {},
   "source": [
    "# Final Project Baseline\n",
    "Yang Wei Neo, Emily Rapport, Hilary Yamtich"
   ]
  },
  {
   "cell_type": "markdown",
   "metadata": {},
   "source": [
    "## Load Libraries and Data"
   ]
  },
  {
   "cell_type": "code",
   "execution_count": 2,
   "metadata": {},
   "outputs": [],
   "source": [
    "# This tells matplotlib not to try opening a new window for each plot.\n",
    "%matplotlib inline\n",
    "\n",
    "import csv\n",
    "from rfpimp import *\n",
    "import numpy as np\n",
    "from sklearn.linear_model import LinearRegression, BayesianRidge\n",
    "from sklearn.neighbors import KNeighborsRegressor\n",
    "from sklearn.tree import DecisionTreeRegressor, export_graphviz\n",
    "from sklearn.impute import SimpleImputer\n",
    "from sklearn.ensemble import RandomForestRegressor\n",
    "from sklearn.ensemble import AdaBoostClassifier \n",
    "from sklearn.metrics import mean_squared_error\n",
    "from sklearn.impute import SimpleImputer\n",
    "from sklearn.preprocessing import OneHotEncoder\n",
    "from sklearn.ensemble import GradientBoostingRegressor\n",
    "from sklearn.decomposition import PCA \n",
    "from sklearn.linear_model import Ridge\n",
    "from sklearn.linear_model import Lasso\n",
    "from sklearn.linear_model import ElasticNet\n",
    "import seaborn as sns\n",
    "\n",
    "# note: this notebook requires pandas 0.21.0 or newer\n",
    "import pandas as pd\n",
    "import matplotlib.pyplot as plt\n",
    "import seaborn as sns\n",
    "import testing_utils as testing\n",
    "import model_training_utils as model_train\n",
    "import ensemble_model_utils as ensemble\n",
    "import math\n",
    "from datetime import datetime as dt\n",
    "import re as re\n",
    "import pickle as pk\n",
    "\n",
    "# For producing decision tree diagrams.\n",
    "from IPython.core.display import Image, display\n",
    "from sklearn.externals.six import StringIO\n",
    "\n",
    "from dateutil import parser\n",
    "import datetime"
   ]
  },
  {
   "cell_type": "code",
   "execution_count": 3,
   "metadata": {
    "scrolled": true
   },
   "outputs": [],
   "source": [
    "# Load the pickle file that contains the clean data and other useful stuff?\n",
    "infile = open('./clean_data_pickle','rb')\n",
    "data = pk.load(infile)\n",
    "infile.close()\n",
    "\n",
    "with open('clean_test_data.pkl', 'rb') as infile:\n",
    "    kaggle_test_data = pk.load(infile)"
   ]
  },
  {
   "cell_type": "markdown",
   "metadata": {},
   "source": [
    "--------\n",
    "\n",
    "# Cross Validation"
   ]
  },
  {
   "cell_type": "markdown",
   "metadata": {},
   "source": [
    "We started with a simple 15% dev set, but we have found that for this amount of data, the differences in the models and their scores on the dev sets can vary significantly based on which rows end up in the train and dev sets. Repeated random sub-sampling cross validation helps us get more consistent results.\n",
    "\n",
    "Note that we do not split out the dev data using the most recent years, which would be the proper way to create a dev set if our task were explicitly to predict future home prices. The test data appears to have rows from all the years represented in the train set, so we built dev sets that sample from across the train set. "
   ]
  },
  {
   "cell_type": "code",
   "execution_count": 4,
   "metadata": {},
   "outputs": [],
   "source": [
    "# still to do : choose one version of pandas to use so that our code all agrees\n",
    "# and I don't have to read in a new dataset here \n",
    "NUM_CROSS_VALS = 1"
   ]
  },
  {
   "cell_type": "code",
   "execution_count": 5,
   "metadata": {},
   "outputs": [],
   "source": [
    "# get the list of different cross val splits\n",
    "cross_val_list = []\n",
    "for i in range(NUM_CROSS_VALS):\n",
    "    split_idx = int(data.shape[0] * .85)\n",
    "    # line below is what shuffles\n",
    "    data = data.sample(frac=1)\n",
    "    train_df = data[:split_idx]\n",
    "    dev_df = data[split_idx:]\n",
    "    split_dict = {'train_df': train_df,\n",
    "                  'dev_df': dev_df}\n",
    "    cross_val_list.append(split_dict)"
   ]
  },
  {
   "cell_type": "code",
   "execution_count": null,
   "metadata": {},
   "outputs": [],
   "source": []
  },
  {
   "cell_type": "code",
   "execution_count": null,
   "metadata": {},
   "outputs": [],
   "source": []
  },
  {
   "cell_type": "markdown",
   "metadata": {},
   "source": [
    "## Error Metric"
   ]
  },
  {
   "cell_type": "markdown",
   "metadata": {},
   "source": [
    "As our primary error metric, we focus on the root mean squared error of the logarithm of the prices, which is the error metric being used to create the leaderboard for this kaggle competition. See rmsle() in shared_functions.py for our implementation of the root mean squared logarithmic error, an implementation we found from Mark Nagelberg on Kaggle: https://www.kaggle.com/marknagelberg/rmsle-function. Note that this adds 1 to each target and *marginally* inflates the underlying target. \n",
    "\n",
    "Note, however, that the rmsle is not necessarily the same error metric that is used consistently in all of the underlying models. In some cases minimizing another error metric may result in minimizing the rmsle (e.g. minimizing sum of squares will minimize root mean logarthmic error). But in other cases, such as the kNN, which minimizes Euclidean distance, it is not clear to us that it necessarily solves for rmsle. \n"
   ]
  },
  {
   "cell_type": "markdown",
   "metadata": {},
   "source": [
    "## Get Baseline\n",
    "\n",
    "When we consulted our resident real estate expert, Hilary's dad, about this problem, he told us that only one of these factors matters - \"location, location, location.\" In the spirit of that insight, we created a baseline \"model\" which looks at what neighborhood the house is in and takes the mean price of houses from that neighborhood in the training set. "
   ]
  },
  {
   "cell_type": "code",
   "execution_count": 7,
   "metadata": {
    "scrolled": true
   },
   "outputs": [
    {
     "name": "stdout",
     "output_type": "stream",
     "text": [
      "Baseline RMSLE: 0.284\n"
     ]
    },
    {
     "name": "stderr",
     "output_type": "stream",
     "text": [
      "/Users/yangweineo/anaconda3/lib/python3.6/site-packages/ipykernel_launcher.py:17: SettingWithCopyWarning: \n",
      "A value is trying to be set on a copy of a slice from a DataFrame.\n",
      "Try using .loc[row_indexer,col_indexer] = value instead\n",
      "\n",
      "See the caveats in the documentation: http://pandas.pydata.org/pandas-docs/stable/indexing.html#indexing-view-versus-copy\n"
     ]
    }
   ],
   "source": [
    "# todo: figure out why i'm getting nans now\n",
    "# when i wasn't in original notebook\n",
    "def baseline_pred(row,\n",
    "                  train_df):\n",
    "    for col in train_df:\n",
    "        if 'Neighborhood' in col:\n",
    "            if row[col] == 1:\n",
    "                neighborhood_var = col\n",
    "                break\n",
    "    return np.nanmean(train_df[train_df[neighborhood_var]==1]['LogSalePrice'])\n",
    "\n",
    "def get_baseline_cross_val(cross_val_list):\n",
    "    all_rmses = []\n",
    "    for di in cross_val_list:\n",
    "        dev_df = di['dev_df']\n",
    "        dev_df['baseline_pred'] = dev_df.apply(lambda row: baseline_pred(row,\n",
    "                                                                         di['train_df']), axis=1)\n",
    "        rmse = testing.rmsle(list(np.exp(dev_df['LogSalePrice'])), list(np.exp(dev_df['baseline_pred'])))\n",
    "        all_rmses.append(rmse)\n",
    "    return np.nanmean(all_rmses) \n",
    "\n",
    "# baseline RMSLE\n",
    "print(\"Baseline RMSLE: {:.3f}\".format(get_baseline_cross_val(cross_val_list)))"
   ]
  },
  {
   "cell_type": "markdown",
   "metadata": {},
   "source": [
    "With this as a baseline, we began exploring how different types of models perform on the problem."
   ]
  },
  {
   "cell_type": "markdown",
   "metadata": {},
   "source": [
    "## Model Exploration \n",
    "#### Linear Regression\n",
    "\n",
    "We begin with linear regression as the standard choice for a regression problem. In ordinary least squares regression, the regression line is fit by minimizing the sum of squared residuals between the predicted line and the true data points. We can interpret the resulting coefficients on each feature as representing the additional impact of a one-unit change in that feature on the final price.\n",
    "\n",
    "- Will not work well with variables that are highly correlated with each other (note that OneHotEncoding is technically not the right solution here as one category will be a linear combination of the others, but the model will drop it anyway).\n",
    "- Indeed this is why linear regression with PCA seems to do just as well as the original variables since each principal component is orthogoal to one another the  loss is not as great for linear regression (only 0.04 loss in RMSLE).\n",
    "- We find that the simple, unembellished linear regression is extremely effective relative to the baseline. With some simple hyperparameter tuning we find that the Lasso ultimately does best, as it allows us to remove entire features altogether- this suggests that we have too many (redundant) features, such as GarageCars and Garage SqFt. Indeed it makes sense then that the Ridge regression with an extremely large regularization parameter then does second best. The elasticnet which strikes a balance of the L1/L2 regularization seems to do worst."
   ]
  },
  {
   "cell_type": "code",
   "execution_count": 121,
   "metadata": {},
   "outputs": [
    {
     "data": {
      "text/html": [
       "<div>\n",
       "<style scoped>\n",
       "    .dataframe tbody tr th:only-of-type {\n",
       "        vertical-align: middle;\n",
       "    }\n",
       "\n",
       "    .dataframe tbody tr th {\n",
       "        vertical-align: top;\n",
       "    }\n",
       "\n",
       "    .dataframe thead th {\n",
       "        text-align: right;\n",
       "    }\n",
       "</style>\n",
       "<table border=\"1\" class=\"dataframe\">\n",
       "  <thead>\n",
       "    <tr style=\"text-align: right;\">\n",
       "      <th></th>\n",
       "      <th>Features</th>\n",
       "      <th>Model</th>\n",
       "      <th>Num Features</th>\n",
       "      <th>Outcome Var</th>\n",
       "      <th>Params</th>\n",
       "      <th>Root MSE</th>\n",
       "      <th>Train MSE</th>\n",
       "    </tr>\n",
       "  </thead>\n",
       "  <tbody>\n",
       "    <tr>\n",
       "      <th>1</th>\n",
       "      <td>[Id, MSSubClass, LotFrontage, LotArea, Overall...</td>\n",
       "      <td>[Lasso(alpha=0.001, copy_X=True, fit_intercept...</td>\n",
       "      <td>232</td>\n",
       "      <td>LogSalePrice</td>\n",
       "      <td>{'alpha': 0.001}</td>\n",
       "      <td>0.130500</td>\n",
       "      <td>0.117427</td>\n",
       "    </tr>\n",
       "    <tr>\n",
       "      <th>2</th>\n",
       "      <td>[Id, MSSubClass, LotFrontage, LotArea, Overall...</td>\n",
       "      <td>[Ridge(alpha=50, copy_X=True, fit_intercept=Tr...</td>\n",
       "      <td>232</td>\n",
       "      <td>LogSalePrice</td>\n",
       "      <td>{'alpha': 50}</td>\n",
       "      <td>0.134653</td>\n",
       "      <td>0.121234</td>\n",
       "    </tr>\n",
       "    <tr>\n",
       "      <th>3</th>\n",
       "      <td>[Id, MSSubClass, LotFrontage, LotArea, Overall...</td>\n",
       "      <td>[ElasticNet(alpha=0.005, copy_X=True, fit_inte...</td>\n",
       "      <td>232</td>\n",
       "      <td>LogSalePrice</td>\n",
       "      <td>{'alpha': 0.005}</td>\n",
       "      <td>0.137626</td>\n",
       "      <td>0.135933</td>\n",
       "    </tr>\n",
       "    <tr>\n",
       "      <th>0</th>\n",
       "      <td>[Id, MSSubClass, LotFrontage, LotArea, Overall...</td>\n",
       "      <td>[LinearRegression(copy_X=True, fit_intercept=T...</td>\n",
       "      <td>232</td>\n",
       "      <td>LogSalePrice</td>\n",
       "      <td>{}</td>\n",
       "      <td>0.146122</td>\n",
       "      <td>0.096617</td>\n",
       "    </tr>\n",
       "  </tbody>\n",
       "</table>\n",
       "</div>"
      ],
      "text/plain": [
       "                                            Features  \\\n",
       "1  [Id, MSSubClass, LotFrontage, LotArea, Overall...   \n",
       "2  [Id, MSSubClass, LotFrontage, LotArea, Overall...   \n",
       "3  [Id, MSSubClass, LotFrontage, LotArea, Overall...   \n",
       "0  [Id, MSSubClass, LotFrontage, LotArea, Overall...   \n",
       "\n",
       "                                               Model  Num Features  \\\n",
       "1  [Lasso(alpha=0.001, copy_X=True, fit_intercept...           232   \n",
       "2  [Ridge(alpha=50, copy_X=True, fit_intercept=Tr...           232   \n",
       "3  [ElasticNet(alpha=0.005, copy_X=True, fit_inte...           232   \n",
       "0  [LinearRegression(copy_X=True, fit_intercept=T...           232   \n",
       "\n",
       "    Outcome Var            Params  Root MSE  Train MSE  \n",
       "1  LogSalePrice  {'alpha': 0.001}  0.130500   0.117427  \n",
       "2  LogSalePrice     {'alpha': 50}  0.134653   0.121234  \n",
       "3  LogSalePrice  {'alpha': 0.005}  0.137626   0.135933  \n",
       "0  LogSalePrice                {}  0.146122   0.096617  "
      ]
     },
     "execution_count": 121,
     "metadata": {},
     "output_type": "execute_result"
    }
   ],
   "source": [
    "# Set up different LR models\n",
    "models_to_param_list = {LinearRegression: [{}], \n",
    "                        Lasso: [{'alpha': 0.001}], # lower value is less regularization\n",
    "                        Ridge: [{'alpha': 50}], # more effective with more regularization\n",
    "                        ElasticNet: [{'alpha': 0.005}]} # lower value is less regularization\n",
    "\n",
    "# Outcome \n",
    "outcome_vars = ['LogSalePrice']\n",
    "\n",
    "# Create feature sets\n",
    "feature_sets = [[col for col in data.columns if col not in ['YrMoSold', 'LogSalePrice', 'SalePrice']]]\n",
    "\n",
    "# Output model\n",
    "lr_models = model_train.try_different_models(cross_val_list, \n",
    "                                        models_to_param_list,\n",
    "                                        outcome_vars, \n",
    "                                        feature_sets)\n",
    "\n",
    "lr_models_forensemble = lr_models.sort_values('Root MSE', ascending=True)\n",
    "lr_models_forensemble"
   ]
  },
  {
   "cell_type": "markdown",
   "metadata": {},
   "source": [
    "### Bagging Illustration\n",
    "\n",
    "Bagging, or bootstrap aggregation, is intended to reduce variance in the test error by averaging predictions over very specialized models. While each of these models in isolation is likely to overfit, the ensemble of specialized models ends up being very effective at reducing overall test error. To stress test this assumption, we run several random forest ensembles on models that are increasingly less likely to *individually* overfit. We find that the more likely each individual model is to overfit (either by enforcing a smaller minimum leaf, or by enforcing a higher split size), the lower the error of the ensemble as a whole. We suspect that this is because a large ensemble paired with high variance/low bias individual models gives the best of both worlds.\n",
    "\n",
    "Note however that this phenomenon is not true when we increase the proportion of features used to split at each node (causing any given individual tree to be more likely to overfit). We aren't sure why - perhaps the choice of features increases signal in the underlying data while increasing the complexity of each tree, and the former may offset effects from the latter. \n",
    "\n",
    "Another interesting phenomenon is that the difference between the training and test error decreases as each individual model within the ensemble gets less complex. This is a sign of increasing bias in the underlying model, which makes sense, since each model is more likely to underfit since it has less underlying complexity. \n",
    "\n",
    "This analysis suggests that we ought to lean towards creating more complex individual trees (low bias); the higher variance that results from this ought be offset by the bootstrap aggregation procedure. We will use a grid search to find the optimal combination of parameters. "
   ]
  },
  {
   "cell_type": "code",
   "execution_count": 26,
   "metadata": {},
   "outputs": [],
   "source": [
    "# Initialize list of tests:\n",
    "param_list = []\n",
    "\n",
    "# Create list of parameter types\n",
    "for min_leaf_size in range(10):\n",
    "    param_list.append({'min_samples_leaf': min_leaf_size, 'n_estimators': 50})\n",
    "    \n",
    "for feature_prop in range(10):\n",
    "    param_list.append({'max_features': feature_prop/10, 'n_estimators': 50})\n",
    "                       \n",
    "for split_size in range(11):\n",
    "    param_list.append({'min_samples_split': split_size, 'n_estimators': 50})\n"
   ]
  },
  {
   "cell_type": "code",
   "execution_count": 30,
   "metadata": {
    "scrolled": true
   },
   "outputs": [],
   "source": [
    "# Run models to show the impact of bagging\n",
    "### THIS TAKES A LONG TIME TO RUN\n",
    "models_to_param_list = {RandomForestRegressor: param_list}\n",
    "feature_sets = [[col for col in data.columns if col not in ['YrMoSold', 'LogSalePrice', 'SalePrice']]]\n",
    "\n",
    "# Run different random forests\n",
    "df = model_train.try_different_models(cross_val_list, \n",
    "                             models_to_param_list,\n",
    "                             outcome_vars, \n",
    "                             feature_sets)\n",
    "\n",
    "df_forensemble = df.sort_values('Root MSE', ascending=True)\n"
   ]
  },
  {
   "cell_type": "code",
   "execution_count": 31,
   "metadata": {},
   "outputs": [
    {
     "data": {
      "text/plain": [
       "Text(0.5,0.98,'Bagging with High Variance Models')"
      ]
     },
     "execution_count": 31,
     "metadata": {},
     "output_type": "execute_result"
    },
    {
     "data": {
      "image/png": "[encoded data removed]",
      "text/plain": [
       "<matplotlib.figure.Figure at 0x1a1c2ee748>"
      ]
     },
     "metadata": {},
     "output_type": "display_data"
    }
   ],
   "source": [
    "# Plot the data\n",
    "fig, ax = plt.subplots(1,3, sharey='row')\n",
    "fig.tight_layout(pad = 1.5)\n",
    "\n",
    "ax[0].plot(df.iloc[0:9]['Root MSE'])\n",
    "ax[0].plot(df.iloc[0:9]['Train MSE'])\n",
    "ax[0].set_xlabel('Min Leaf Size')\n",
    "\n",
    "ax[1].plot(df.iloc[10:20]['Root MSE'])\n",
    "ax[1].plot(df.iloc[10:20]['Train MSE'])\n",
    "ax[1].set_xlabel('% of Features used to split')\n",
    "\n",
    "ax[2].plot(df.iloc[20:30]['Root MSE'])\n",
    "ax[2].plot(df.iloc[20:30]['Train MSE'])\n",
    "ax[2].set_xlabel('Minimum Split Size')\n",
    "\n",
    "fig.suptitle('Bagging with High Variance Models')\n",
    "# !!! remove the axis tick marks"
   ]
  },
  {
   "cell_type": "markdown",
   "metadata": {
    "collapsed": true
   },
   "source": [
    "### Boosting Illustration\n",
    "\n",
    "In contrast, boosting is a process that reduces bias by refitting the model iteratively on the errors from the previous model. Boosting can turn weak learners into a accurate ensemble - we can see this below by showing how a relatively weak learner (tree of depth 3) actually appears to have the best accuracy in a GBM as compared to a GBM with greater depth. However, GBMs do have a tendency towards high variance (as seen by how quickly the model overfits the training data relative to the test data). "
   ]
  },
  {
   "cell_type": "code",
   "execution_count": 33,
   "metadata": {},
   "outputs": [],
   "source": [
    "# Initialize list of tests:\n",
    "param_list = []\n",
    "# Create list of parameter types\n",
    "for depth in range(20):\n",
    "    param_list.append({'max_depth': depth, 'n_estimators': 50})"
   ]
  },
  {
   "cell_type": "code",
   "execution_count": 35,
   "metadata": {},
   "outputs": [],
   "source": [
    "# Run Gradient Boosting Results\n",
    "models_to_param_list = {GradientBoostingRegressor: param_list}\n",
    "df_boosting = model_train.try_different_models(cross_val_list, \n",
    "                             models_to_param_list,\n",
    "                             outcome_vars, \n",
    "                             feature_sets)\n",
    "df_boosting_forensemble = df_boosting.sort_values('Root MSE', ascending=True)"
   ]
  },
  {
   "cell_type": "code",
   "execution_count": 36,
   "metadata": {},
   "outputs": [
    {
     "data": {
      "text/plain": [
       "Text(0,0.5,'Error')"
      ]
     },
     "execution_count": 36,
     "metadata": {},
     "output_type": "execute_result"
    },
    {
     "data": {
      "image/png": "[encoded data removed]",
      "text/plain": [
       "<matplotlib.figure.Figure at 0x111881e80>"
      ]
     },
     "metadata": {},
     "output_type": "display_data"
    }
   ],
   "source": [
    "# Plot the DF Boosting Results.\n",
    "plt.plot(df_boosting.index, df_boosting['Root MSE'])\n",
    "plt.plot(df_boosting.index, df_boosting['Train MSE'])\n",
    "plt.xlabel('Depth of Tree')\n",
    "\n",
    "plt.ylabel('Error')"
   ]
  },
  {
   "cell_type": "markdown",
   "metadata": {},
   "source": [
    "### Bayesian Ridge \n",
    "TODO EMILY"
   ]
  },
  {
   "cell_type": "code",
   "execution_count": null,
   "metadata": {},
   "outputs": [],
   "source": []
  },
  {
   "cell_type": "code",
   "execution_count": null,
   "metadata": {},
   "outputs": [],
   "source": []
  },
  {
   "cell_type": "code",
   "execution_count": null,
   "metadata": {},
   "outputs": [],
   "source": []
  },
  {
   "cell_type": "code",
   "execution_count": null,
   "metadata": {},
   "outputs": [],
   "source": []
  },
  {
   "cell_type": "markdown",
   "metadata": {},
   "source": [
    "### KNearest Neighbors\n",
    "TODO EMILY"
   ]
  },
  {
   "cell_type": "code",
   "execution_count": null,
   "metadata": {},
   "outputs": [],
   "source": []
  },
  {
   "cell_type": "code",
   "execution_count": null,
   "metadata": {},
   "outputs": [],
   "source": []
  },
  {
   "cell_type": "code",
   "execution_count": null,
   "metadata": {},
   "outputs": [],
   "source": []
  },
  {
   "cell_type": "code",
   "execution_count": null,
   "metadata": {},
   "outputs": [],
   "source": []
  },
  {
   "cell_type": "markdown",
   "metadata": {},
   "source": [
    "### Other Models"
   ]
  },
  {
   "cell_type": "code",
   "execution_count": null,
   "metadata": {},
   "outputs": [],
   "source": []
  },
  {
   "cell_type": "code",
   "execution_count": null,
   "metadata": {},
   "outputs": [],
   "source": []
  },
  {
   "cell_type": "code",
   "execution_count": null,
   "metadata": {},
   "outputs": [],
   "source": []
  },
  {
   "cell_type": "code",
   "execution_count": null,
   "metadata": {},
   "outputs": [],
   "source": []
  },
  {
   "cell_type": "code",
   "execution_count": null,
   "metadata": {},
   "outputs": [],
   "source": []
  },
  {
   "cell_type": "markdown",
   "metadata": {
    "collapsed": true
   },
   "source": [
    "### Ensembling Techniques"
   ]
  },
  {
   "cell_type": "markdown",
   "metadata": {},
   "source": [
    "#### Voting & Avergaging"
   ]
  },
  {
   "cell_type": "markdown",
   "metadata": {},
   "source": [
    "EMILY TODO"
   ]
  },
  {
   "cell_type": "code",
   "execution_count": null,
   "metadata": {},
   "outputs": [],
   "source": []
  },
  {
   "cell_type": "code",
   "execution_count": null,
   "metadata": {},
   "outputs": [],
   "source": []
  },
  {
   "cell_type": "code",
   "execution_count": null,
   "metadata": {},
   "outputs": [],
   "source": []
  },
  {
   "cell_type": "code",
   "execution_count": null,
   "metadata": {},
   "outputs": [],
   "source": []
  },
  {
   "cell_type": "markdown",
   "metadata": {},
   "source": [
    "#### Stacking\n",
    "\n",
    "We use stacking as a method of ensembling. Stacking involves training a meta-model on the underlying models. This is intended to give greater weights to models that are more accurate (instead of arbitrarily assigning weights to each or simple-averaging across them). The stacking model itself also need not be a linear model. We hypothesize that given a similar level of accuracy, models that generate predictions that are different from each other will do better in an ensemble, and this is also true of a stacked ensemble. To explore this idea we use a simple linear regression on the outputs of each of the given underlying models. \n",
    "\n",
    "By comparing several different models and plotting their predictions against in a scatterplot matrix, we see that:\n",
    "- Not all models have a linear relationship with the final prediction: the boosted model appears to have more variation for any given level of the final prediction and tapers off at the end \n",
    "- Some models generate an extremely skewed data point (Linear Regression and RF) relative to the final regression. In the same vein the shape of the distribution for each model prediction can very substantially.\n",
    "- However, the models are generally correlated with each other, suggesting that the ensemble of them may not be very successful (indeed this is what we find, the stacked ensemble does not perform much better)\n",
    "\n",
    "This makes us think that a simple voting / averaging technique may be equally or more effective, and indeed we find that to be the case when we apply a simple weighting scheme across different model predictions. "
   ]
  },
  {
   "cell_type": "code",
   "execution_count": 85,
   "metadata": {},
   "outputs": [],
   "source": [
    "kagglepred = stack_ensemble(train_data = data,\n",
    "                              dev_data = kaggle_test_data, \n",
    "                              model1 = get_best_specs_from_each_family(df_boosting), # boosting\n",
    "                              model2 = get_best_specs_from_each_family(lr_models), # LR\n",
    "                              model3 = get_best_specs_from_each_family(df),# bagging,\n",
    "                              kaggle_flag = True) \n",
    "\n",
    "kagglepred2 = pd.concat([pd.DataFrame({'final_pred': kagglepred[0]}), kagglepred[1]], axis = 1)"
   ]
  },
  {
   "cell_type": "code",
   "execution_count": 90,
   "metadata": {
    "scrolled": false
   },
   "outputs": [
    {
     "data": {
      "text/plain": [
       "<seaborn.axisgrid.PairGrid at 0x1a2193f7f0>"
      ]
     },
     "execution_count": 90,
     "metadata": {},
     "output_type": "execute_result"
    },
    {
     "data": {
      "image/png": "[encoded data removed]",
      "text/plain": [
       "<matplotlib.figure.Figure at 0x1a2193f978>"
      ]
     },
     "metadata": {},
     "output_type": "display_data"
    }
   ],
   "source": [
    "sns.set(style=\"ticks\")\n",
    "sns.pairplot(kagglepred2)\n"
   ]
  },
  {
   "cell_type": "code",
   "execution_count": null,
   "metadata": {
    "scrolled": true
   },
   "outputs": [],
   "source": []
  },
  {
   "cell_type": "code",
   "execution_count": null,
   "metadata": {},
   "outputs": [],
   "source": []
  },
  {
   "cell_type": "code",
   "execution_count": null,
   "metadata": {},
   "outputs": [],
   "source": []
  },
  {
   "cell_type": "code",
   "execution_count": null,
   "metadata": {},
   "outputs": [],
   "source": []
  },
  {
   "cell_type": "code",
   "execution_count": null,
   "metadata": {},
   "outputs": [],
   "source": []
  },
  {
   "cell_type": "code",
   "execution_count": null,
   "metadata": {},
   "outputs": [],
   "source": []
  },
  {
   "cell_type": "code",
   "execution_count": null,
   "metadata": {},
   "outputs": [],
   "source": []
  },
  {
   "cell_type": "markdown",
   "metadata": {},
   "source": [
    "### Error Analysis\n",
    "\n",
    "In this section, we'll go into more detail about how we actually iterated on models and chose whichever ones we end up deciding are our best. Our primary tools will be this error correlation table, which we'll use to look at patterns of errors the model is making, and diagnostics to determine whether or not the model is overfitting. We'll compare different models to each other and explain the model or ensemble that gives us the best results."
   ]
  },
  {
   "cell_type": "code",
   "execution_count": null,
   "metadata": {},
   "outputs": [],
   "source": [
    "# this still only works on individual models, it doens't average the correlations over a set of models\n",
    "# this tool is really more exploratory than anything - look at a couple models from the set you care about\n",
    "# and see what the trends are\n",
    "\n",
    "# use this variable to specify which model specification to use\n",
    "df_and_row_to_use = lrdf.iloc[0]\n",
    "# use this variable to specify which in the list of models trained with that specification to use\n",
    "model_to_use = df_and_row_to_use['Model'][1]\n",
    "# don't change this\n",
    "features_to_use = df_and_row_to_use['Features']\n",
    "\n",
    "# table for our LR with all the features\n",
    "corrs_df = testing.create_error_correlation_table(model_to_use, 'LogSalePrice', features_to_use, dev_df)\n",
    "corrs_df.reindex(corrs_df.correlation.abs().sort_values(ascending=False).index)"
   ]
  },
  {
   "cell_type": "markdown",
   "metadata": {},
   "source": [
    "#### Cycle through each model variation and plot errors"
   ]
  },
  {
   "cell_type": "code",
   "execution_count": null,
   "metadata": {},
   "outputs": [],
   "source": [
    "### Random Forest\n",
    "df.sort_values('Root MSE', ascending=True).head(1)"
   ]
  },
  {
   "cell_type": "code",
   "execution_count": null,
   "metadata": {},
   "outputs": [],
   "source": [
    "### Linear Regression\n",
    "lrdf.sort_values('Root MSE', ascending=True).head(1)"
   ]
  },
  {
   "cell_type": "code",
   "execution_count": null,
   "metadata": {
    "scrolled": false
   },
   "outputs": [],
   "source": [
    "### TODO YW: what do you want to use for feature importance here? save off the PCA feature importance\n",
    "### from the last notebook?\n",
    "\n",
    "### Random Forest Errors\n",
    "rf_error_spec = df.sort_values('Root MSE', ascending=True).iloc[0]\n",
    "model_to_use = rf_error_spec['Model'][0]\n",
    "features_to_use = rf_error_spec['Features']\n",
    "plot_features = list(feature_importances[:20].index)\n",
    "plot_error_against_var(model_to_use, 'LogSalePrice', features_to_use, plot_features, dev_df)"
   ]
  },
  {
   "cell_type": "code",
   "execution_count": null,
   "metadata": {},
   "outputs": [],
   "source": [
    "### Linear Regression Errors\n",
    "# use this variable to specify which model specification to use\n",
    "df_and_row_to_use = lrdf.iloc[0]\n",
    "features_to_use = df_and_row_to_use['Features']\n",
    "plot_features = list(feature_importances[:20].index)\n",
    "plot_error_against_var(model_to_use, 'LogSalePrice', features_to_use, plot_features, dev_df)"
   ]
  },
  {
   "cell_type": "markdown",
   "metadata": {},
   "source": [
    "# Final Model & Explanation"
   ]
  },
  {
   "cell_type": "markdown",
   "metadata": {},
   "source": [
    "Different models will perform better on different numbers of features. For that reason, it seems worthwhile to try all the individual models we're using on different numbers of features. It will likely be advantageous to ensemble models trained on different numbers of features. \n",
    "\n",
    "We'll use feature importances, determined via random forest, in order to decide which features to use. It may also be worthwhile to try some other feature selection methods, or to try random selection. "
   ]
  },
  {
   "cell_type": "code",
   "execution_count": null,
   "metadata": {},
   "outputs": [],
   "source": [
    "feature_importances = pd.read_csv('feature_importance.csv')\n",
    "feature_importances.columns = ['feature', 'importance']"
   ]
  },
  {
   "cell_type": "code",
   "execution_count": null,
   "metadata": {},
   "outputs": [],
   "source": [
    "feature_sets_to_try = []\n",
    "\n",
    "for i in range(1,24):\n",
    "    set_to_try = list(feature_importances.feature.values)[:(i * 10)]\n",
    "    set_to_try = [item for item in set_to_try if item not in ['SalePrice', 'LogSalePrice']]\n",
    "    feature_sets_to_try.append(set_to_try)"
   ]
  },
  {
   "cell_type": "code",
   "execution_count": null,
   "metadata": {},
   "outputs": [],
   "source": [
    "print(ensemble_to_use['Outcome_Vars'])"
   ]
  },
  {
   "cell_type": "code",
   "execution_count": null,
   "metadata": {},
   "outputs": [],
   "source": []
  },
  {
   "cell_type": "markdown",
   "metadata": {
    "collapsed": true
   },
   "source": [
    "### Narrative of our process"
   ]
  },
  {
   "cell_type": "code",
   "execution_count": null,
   "metadata": {},
   "outputs": [],
   "source": [
    "### discussion of the scikitlearn column - real working problem"
   ]
  },
  {
   "cell_type": "code",
   "execution_count": null,
   "metadata": {},
   "outputs": [],
   "source": []
  },
  {
   "cell_type": "code",
   "execution_count": null,
   "metadata": {},
   "outputs": [],
   "source": []
  },
  {
   "cell_type": "code",
   "execution_count": null,
   "metadata": {},
   "outputs": [],
   "source": []
  },
  {
   "cell_type": "code",
   "execution_count": null,
   "metadata": {},
   "outputs": [],
   "source": []
  },
  {
   "cell_type": "code",
   "execution_count": null,
   "metadata": {},
   "outputs": [],
   "source": []
  },
  {
   "cell_type": "markdown",
   "metadata": {
    "collapsed": true
   },
   "source": [
    "### 1 Big Table"
   ]
  },
  {
   "cell_type": "markdown",
   "metadata": {
    "collapsed": true
   },
   "source": [
    "#### Comparing model performance across different number of features. "
   ]
  },
  {
   "cell_type": "code",
   "execution_count": null,
   "metadata": {},
   "outputs": [],
   "source": []
  },
  {
   "cell_type": "code",
   "execution_count": null,
   "metadata": {},
   "outputs": [],
   "source": []
  },
  {
   "cell_type": "code",
   "execution_count": null,
   "metadata": {},
   "outputs": [],
   "source": []
  },
  {
   "cell_type": "code",
   "execution_count": null,
   "metadata": {},
   "outputs": [],
   "source": []
  },
  {
   "cell_type": "code",
   "execution_count": null,
   "metadata": {},
   "outputs": [],
   "source": []
  },
  {
   "cell_type": "code",
   "execution_count": null,
   "metadata": {},
   "outputs": [],
   "source": []
  },
  {
   "cell_type": "code",
   "execution_count": null,
   "metadata": {},
   "outputs": [],
   "source": []
  },
  {
   "cell_type": "code",
   "execution_count": null,
   "metadata": {},
   "outputs": [],
   "source": []
  },
  {
   "cell_type": "code",
   "execution_count": null,
   "metadata": {},
   "outputs": [],
   "source": []
  },
  {
   "cell_type": "code",
   "execution_count": null,
   "metadata": {},
   "outputs": [],
   "source": []
  },
  {
   "cell_type": "code",
   "execution_count": null,
   "metadata": {},
   "outputs": [],
   "source": []
  },
  {
   "cell_type": "markdown",
   "metadata": {
    "collapsed": true
   },
   "source": [
    "# Messing Around"
   ]
  },
  {
   "cell_type": "markdown",
   "metadata": {},
   "source": [
    "# YW"
   ]
  },
  {
   "cell_type": "code",
   "execution_count": 84,
   "metadata": {},
   "outputs": [],
   "source": [
    "# Load Kaggle test set\n",
    "def get_best_specs_from_each_family(family_df):\n",
    "    model = family_df['Model'].iloc[0][0]\n",
    "    return(model)\n",
    "\n",
    "def change_to_saleprice(predictions):\n",
    "    if np.mean(predictions) < 1000:\n",
    "        return(np.exp(predictions))\n",
    "    else:\n",
    "        return(predictions)\n",
    "    \n",
    "def stack_ensemble(train_data, dev_data, model1, model2, model3, kaggle_flag):\n",
    "    # Drop these columns in train\n",
    "    dropcols_train = ['YrMoSold', 'SalePrice', 'LogSalePrice']\n",
    "    \n",
    "    # Assign workaround if kaggle_flag == True:\n",
    "    if kaggle_flag == True:\n",
    "        dropcols_dev = ['YrMoSold']\n",
    "    else:\n",
    "        dropcols_dev = ['YrMoSold', 'SalePrice', 'LogSalePrice', 'baseline_pred']\n",
    "\n",
    "    # Get boosted predictions\n",
    "    best_boosted_model = model1\n",
    "    boosted_pred = best_boosted_model.predict(train_data.drop(columns=dropcols_train)) # how to include the cross validation here\n",
    "    boosted_pred = change_to_saleprice(boosted_pred)\n",
    "    \n",
    "    boosted_test_pred = best_boosted_model.predict(dev_data.drop(columns=dropcols_dev))\n",
    "    boosted_test_pred = change_to_saleprice(boosted_test_pred)\n",
    "    \n",
    "    # Get LR predictions\n",
    "    best_LR_model = model2\n",
    "    LR_pred = best_LR_model.predict(train_data.drop(columns=dropcols_train))\n",
    "    LR_pred = change_to_saleprice(LR_pred)\n",
    "    \n",
    "    LR_test_pred = best_LR_model.predict(dev_data.drop(columns=dropcols_dev))\n",
    "    LR_test_pred = change_to_saleprice(LR_test_pred)\n",
    "\n",
    "    # Get bagged predictions\n",
    "    best_bagg_model = model3\n",
    "    bagg_pred = best_bagg_model.predict(train_data.drop(columns=dropcols_train))\n",
    "    bagg_pred = change_to_saleprice(bagg_pred)\n",
    "\n",
    "    bagg_test_pred = best_bagg_model.predict(dev_data.drop(columns=dropcols_dev))\n",
    "    bagg_test_pred = change_to_saleprice(bagg_test_pred)\n",
    "\n",
    "    # Create stacked model\n",
    "    trainpred = pd.DataFrame(np.column_stack((boosted_pred, LR_pred, bagg_pred)), columns = ['boosted', 'LR', 'bagg'])\n",
    "    testpred  = pd.DataFrame(np.column_stack((boosted_test_pred, LR_test_pred, bagg_test_pred)), columns = ['boosted', 'LR', 'bagg'])\n",
    "\n",
    "    # Fit the ensemble parameters to fit the all the data\n",
    "    ensemble_LR = LinearRegression()\n",
    "    ensemble_LR.fit(trainpred, data['SalePrice'])\n",
    "    finaltrainpred = ensemble_LR.predict(trainpred)\n",
    "\n",
    "    # Fit the final predictions\n",
    "    finaltestpred = ensemble_LR.predict(testpred)\n",
    "\n",
    "    # Calculate the errgor (note this is the whole dataset so test/train are the same if you choose kaggle_flag == True)\n",
    "    if kaggle_flag == True:\n",
    "        error = testing.calculate_error(train_true = np.array(train_data['SalePrice']), \n",
    "                                train_pred = np.array(finaltrainpred),\n",
    "                                test_true  = np.array(train_data['SalePrice']),\n",
    "                                test_pred  = np.array(finaltrainpred),\n",
    "                                outcome_var = 'SalePrice')\n",
    "    else:\n",
    "        error = testing.calculate_error(train_true = np.array(train_data['SalePrice']), \n",
    "                        train_pred = np.array(finaltrainpred),\n",
    "                        test_true  = np.array(dev_data['SalePrice']),\n",
    "                        test_pred  = np.array(finaltestpred),\n",
    "                        outcome_var = 'SalePrice')\n",
    "\n",
    "\n",
    "#     print(error)\n",
    "#     print(np.mean(boosted_test_pred), np.mean(LR_test_pred), np.mean(bagg_test_pred))\n",
    "#     print(np.mean(finaltestpred))\n",
    "#     print(finaltestpred.shape)\n",
    "    \n",
    "    return [finaltestpred, testpred]\n",
    "\n",
    "kagglepred = stack_ensemble(train_data = data,\n",
    "                              dev_data = kaggle_test_data, # change this\n",
    "                              model1 = get_best_specs_from_each_family(df_boosting), # boosting\n",
    "                              model2 = get_best_specs_from_each_family(lr_models), # LR\n",
    "                              model3 = get_best_specs_from_each_family(df),# bagging,\n",
    "                              kaggle_flag = True) # Change this\n",
    "\n",
    "# testing.make_kaggle_submission(list(kagglepred),\n",
    "#                                kaggle_test_data,\n",
    "#                                'tempsubmission.csv')"
   ]
  },
  {
   "cell_type": "code",
   "execution_count": null,
   "metadata": {},
   "outputs": [],
   "source": []
  },
  {
   "cell_type": "code",
   "execution_count": null,
   "metadata": {},
   "outputs": [],
   "source": []
  },
  {
   "cell_type": "code",
   "execution_count": null,
   "metadata": {},
   "outputs": [],
   "source": []
  },
  {
   "cell_type": "code",
   "execution_count": null,
   "metadata": {},
   "outputs": [],
   "source": []
  },
  {
   "cell_type": "code",
   "execution_count": null,
   "metadata": {},
   "outputs": [],
   "source": []
  },
  {
   "cell_type": "code",
   "execution_count": null,
   "metadata": {},
   "outputs": [],
   "source": []
  },
  {
   "cell_type": "code",
   "execution_count": null,
   "metadata": {},
   "outputs": [],
   "source": []
  },
  {
   "cell_type": "code",
   "execution_count": null,
   "metadata": {},
   "outputs": [],
   "source": []
  },
  {
   "cell_type": "code",
   "execution_count": null,
   "metadata": {},
   "outputs": [],
   "source": []
  },
  {
   "cell_type": "code",
   "execution_count": null,
   "metadata": {},
   "outputs": [],
   "source": []
  },
  {
   "cell_type": "code",
   "execution_count": null,
   "metadata": {},
   "outputs": [],
   "source": []
  },
  {
   "cell_type": "code",
   "execution_count": null,
   "metadata": {},
   "outputs": [],
   "source": []
  },
  {
   "cell_type": "code",
   "execution_count": null,
   "metadata": {},
   "outputs": [],
   "source": []
  },
  {
   "cell_type": "code",
   "execution_count": null,
   "metadata": {},
   "outputs": [],
   "source": []
  },
  {
   "cell_type": "code",
   "execution_count": null,
   "metadata": {},
   "outputs": [],
   "source": []
  },
  {
   "cell_type": "code",
   "execution_count": null,
   "metadata": {},
   "outputs": [],
   "source": []
  },
  {
   "cell_type": "code",
   "execution_count": null,
   "metadata": {},
   "outputs": [],
   "source": []
  },
  {
   "cell_type": "code",
   "execution_count": null,
   "metadata": {},
   "outputs": [],
   "source": []
  },
  {
   "cell_type": "code",
   "execution_count": null,
   "metadata": {},
   "outputs": [],
   "source": []
  },
  {
   "cell_type": "code",
   "execution_count": null,
   "metadata": {},
   "outputs": [],
   "source": []
  },
  {
   "cell_type": "code",
   "execution_count": null,
   "metadata": {},
   "outputs": [],
   "source": []
  },
  {
   "cell_type": "code",
   "execution_count": null,
   "metadata": {},
   "outputs": [],
   "source": []
  },
  {
   "cell_type": "markdown",
   "metadata": {},
   "source": [
    "# EMILY "
   ]
  },
  {
   "cell_type": "code",
   "execution_count": null,
   "metadata": {},
   "outputs": [],
   "source": []
  },
  {
   "cell_type": "code",
   "execution_count": null,
   "metadata": {},
   "outputs": [],
   "source": []
  },
  {
   "cell_type": "code",
   "execution_count": null,
   "metadata": {},
   "outputs": [],
   "source": []
  },
  {
   "cell_type": "code",
   "execution_count": null,
   "metadata": {},
   "outputs": [],
   "source": []
  },
  {
   "cell_type": "code",
   "execution_count": null,
   "metadata": {},
   "outputs": [],
   "source": []
  },
  {
   "cell_type": "code",
   "execution_count": null,
   "metadata": {},
   "outputs": [],
   "source": []
  },
  {
   "cell_type": "code",
   "execution_count": null,
   "metadata": {},
   "outputs": [],
   "source": []
  },
  {
   "cell_type": "code",
   "execution_count": null,
   "metadata": {},
   "outputs": [],
   "source": []
  },
  {
   "cell_type": "code",
   "execution_count": null,
   "metadata": {},
   "outputs": [],
   "source": []
  },
  {
   "cell_type": "code",
   "execution_count": null,
   "metadata": {},
   "outputs": [],
   "source": []
  },
  {
   "cell_type": "code",
   "execution_count": null,
   "metadata": {},
   "outputs": [],
   "source": []
  },
  {
   "cell_type": "code",
   "execution_count": null,
   "metadata": {},
   "outputs": [],
   "source": []
  },
  {
   "cell_type": "code",
   "execution_count": null,
   "metadata": {},
   "outputs": [],
   "source": []
  },
  {
   "cell_type": "code",
   "execution_count": null,
   "metadata": {},
   "outputs": [],
   "source": []
  },
  {
   "cell_type": "code",
   "execution_count": null,
   "metadata": {},
   "outputs": [],
   "source": []
  },
  {
   "cell_type": "markdown",
   "metadata": {},
   "source": [
    "### Linear Regression"
   ]
  },
  {
   "cell_type": "code",
   "execution_count": null,
   "metadata": {},
   "outputs": [],
   "source": [
    "models_to_param_list = {LinearRegression: [{}]}\n",
    "outcome_vars = ['LogSalePrice', 'SalePrice']\n",
    "# for all models, we'll try with both the full feature set and the \"top 10\" feature set\n",
    "lrdf = model_train.try_different_models(cross_val_list, \n",
    "                                        models_to_param_list,\n",
    "                                        outcome_vars, \n",
    "                                        feature_sets_to_try)\n",
    "lrdf.sort_values('Root MSE', ascending=True)"
   ]
  },
  {
   "cell_type": "markdown",
   "metadata": {},
   "source": [
    "### Tree-based Models"
   ]
  },
  {
   "cell_type": "code",
   "execution_count": null,
   "metadata": {},
   "outputs": [],
   "source": [
    "models_to_param_list = {DecisionTreeRegressor: [{}], \n",
    "                        RandomForestRegressor: [{'n_estimators': 10},\n",
    "                                                {'min_samples_leaf': 3, 'n_estimators': 20}]}\n",
    "\n",
    "df = model_train.try_different_models(cross_val_list, \n",
    "                                     models_to_param_list,\n",
    "                                     outcome_vars, \n",
    "                                     feature_sets_to_try)\n",
    "df.sort_values('Root MSE', ascending=True)"
   ]
  },
  {
   "cell_type": "markdown",
   "metadata": {},
   "source": [
    "### Grab bag of other models - BR and KNN"
   ]
  },
  {
   "cell_type": "code",
   "execution_count": null,
   "metadata": {},
   "outputs": [],
   "source": [
    "models_to_param_list = {BayesianRidge: [{}], \n",
    "                        KNeighborsRegressor: [{}]}\n",
    "\n",
    "gb_df = model_train.try_different_models(cross_val_list, \n",
    "                                         models_to_param_list,\n",
    "                                         outcome_vars, \n",
    "                                         feature_sets_to_try)\n",
    "gb_df.sort_values('Root MSE', ascending=True)"
   ]
  },
  {
   "cell_type": "code",
   "execution_count": null,
   "metadata": {},
   "outputs": [],
   "source": [
    "lin_models = ensemble.get_model_dicts_from_data_frame(lrdf.sort_values('Root MSE')[:5])\n",
    "tree_models = ensemble.get_model_dicts_from_data_frame(df.sort_values('Root MSE')[:5])\n",
    "bayesian_models = ensemble.get_model_dicts_from_data_frame(gb_df.sort_values('Root MSE')[:5])"
   ]
  },
  {
   "cell_type": "code",
   "execution_count": null,
   "metadata": {
    "scrolled": true
   },
   "outputs": [],
   "source": [
    "top_of_each = [models[0] for models in [lin_models, tree_models, bayesian_models]]\n",
    "lin_and_tree = [models[0] for models in [lin_models, tree_models]]\n",
    "lin_and_bayesian = [models[0] for models in [lin_models, bayesian_models]]\n",
    "bayesian_and_tree = [models[0] for models in [bayesian_models, tree_models]]"
   ]
  },
  {
   "cell_type": "code",
   "execution_count": null,
   "metadata": {},
   "outputs": [],
   "source": [
    "voting_ensembles_df = ensemble.try_different_voting_ensembles(cross_val_list,\n",
    "                                                              [top_of_each,\n",
    "                                                               lin_and_tree,\n",
    "                                                               lin_and_bayesian,\n",
    "                                                               bayesian_and_tree, \n",
    "                                                               tree_models,\n",
    "                                                               lin_models,\n",
    "                                                               bayesian_models,\n",
    "                                                               tree_models[:2],\n",
    "                                                               tree_models[:3],\n",
    "                                                               tree_models[:4]])"
   ]
  },
  {
   "cell_type": "code",
   "execution_count": null,
   "metadata": {},
   "outputs": [],
   "source": [
    "voting_ensembles_df.sort_values('RMSE for ensemble')"
   ]
  },
  {
   "cell_type": "code",
   "execution_count": null,
   "metadata": {},
   "outputs": [],
   "source": []
  },
  {
   "cell_type": "code",
   "execution_count": null,
   "metadata": {},
   "outputs": [],
   "source": [
    "# choose model - for now, just choosing the best one\n",
    "ensemble_to_use = voting_ensembles_df.sort_values('RMSE for ensemble')[:1]"
   ]
  },
  {
   "cell_type": "code",
   "execution_count": null,
   "metadata": {},
   "outputs": [],
   "source": [
    "## 2 steps for submitting to kaggle:\n",
    "## retrain models on all data and get new preds\n",
    "## then make the final submission CSV\n",
    "final_preds = testing.retrain_on_all_data_and_get_final_preds(ensemble_to_use,\n",
    "                                                              data,\n",
    "                                                              kaggle_test_data)\n",
    "testing.make_kaggle_submission(final_preds,\n",
    "                               kaggle_test_data,\n",
    "                               'tempsubmission.csv')"
   ]
  }
 ],
 "metadata": {
  "kernelspec": {
   "display_name": "Python 3",
   "language": "python",
   "name": "python3"
  },
  "language_info": {
   "codemirror_mode": {
    "name": "ipython",
    "version": 3
   },
   "file_extension": ".py",
   "mimetype": "text/x-python",
   "name": "python",
   "nbconvert_exporter": "python",
   "pygments_lexer": "ipython3",
   "version": "3.6.4"
  }
 },
 "nbformat": 4,
 "nbformat_minor": 2
}
