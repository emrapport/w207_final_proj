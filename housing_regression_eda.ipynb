{
 "cells": [
  {
   "cell_type": "code",
   "execution_count": null,
   "metadata": {},
   "outputs": [],
   "source": [
    "import pandas as pd\n",
    "import numpy as np\n",
    "from matplotlib import pyplot as plt\n",
    "from sklearn.linear_model import LinearRegression, BayesianRidge\n",
    "from sklearn.tree import DecisionTreeRegressor\n",
    "from sklearn.ensemble import RandomForestRegressor\n",
    "from sklearn.preprocessing import Binarizer, OneHotEncoder, OrdinalEncoder, add_dummy_feature\n",
    "from sklearn.metrics import mean_squared_error\n",
    "from shared_functions import rmsle, train_and_test, try_different_models\n",
    "import math\n",
    "\n",
    "pd.set_option('max_colwidth', 100)"
   ]
  },
  {
   "cell_type": "code",
   "execution_count": null,
   "metadata": {
    "collapsed": true
   },
   "outputs": [],
   "source": [
    "REDO_EDA = False"
   ]
  },
  {
   "cell_type": "code",
   "execution_count": null,
   "metadata": {
    "collapsed": true
   },
   "outputs": [],
   "source": [
    "data_df = pd.read_csv(r\"../all/train.csv\", index_col=0)\n",
    "with open(r\"../all/data_description.txt\", 'r') as file:\n",
    "    data_desc = file.readlines()"
   ]
  },
  {
   "cell_type": "code",
   "execution_count": null,
   "metadata": {
    "collapsed": true
   },
   "outputs": [],
   "source": [
    "og_columns = list(data_df.columns)"
   ]
  },
  {
   "cell_type": "markdown",
   "metadata": {},
   "source": [
    "### Print out analysis graphs "
   ]
  },
  {
   "cell_type": "code",
   "execution_count": null,
   "metadata": {
    "collapsed": true
   },
   "outputs": [],
   "source": [
    "data_df['LogSalePrice'] = np.log(data_df['SalePrice'])"
   ]
  },
  {
   "cell_type": "code",
   "execution_count": null,
   "metadata": {},
   "outputs": [],
   "source": [
    "%%capture cap --no-stderr\n",
    "if REDO_EDA:\n",
    "    # TODO: need to remine the descriptions if i want that part to work\n",
    "    for column in data_df:\n",
    "        #if column in cols_w_descripts:\n",
    "        #    entry = [item for item in data_desc if column + \":\" in item]\n",
    "        #    print(column + \": \" + entry[0].split(column + \":\")[1].split('\\n')[0])\n",
    "        #print(data_df[column].value_counts())\n",
    "        try:\n",
    "            plt.plot(data_df[column], data_df['LogSalePrice'], 'bo')\n",
    "            plt.title(column + \" vs Log SalePrice\")\n",
    "            plt.savefig(\"../log_analysis/\" + column + \"_vs_saleprice.jpg\")\n",
    "            plt.show()\n",
    "        except:\n",
    "            print(column)\n",
    "\n",
    "    '''with open('../analysis/output.txt', 'w') as f:\n",
    "        f.write(cap.stdout)'''"
   ]
  },
  {
   "cell_type": "code",
   "execution_count": null,
   "metadata": {},
   "outputs": [],
   "source": [
    "plt.plot(data_df['LotFrontage'].fillna(0), data_df['SalePrice'], 'bo')\n",
    "plt.show()\n",
    "data_df = data_df.fillna(0)"
   ]
  },
  {
   "cell_type": "markdown",
   "metadata": {},
   "source": [
    "### Split into train, dev"
   ]
  },
  {
   "cell_type": "code",
   "execution_count": null,
   "metadata": {},
   "outputs": [],
   "source": [
    "split_idx = int(data_df.shape[0] * .9)\n",
    "data_df = data_df.sample(frac=1)\n",
    "train_df = data_df[:split_idx]\n",
    "dev_df = data_df[split_idx:]\n",
    "del data_df\n",
    "print(train_df.shape)\n",
    "print(dev_df.shape)\n",
    "train_df.head()"
   ]
  },
  {
   "cell_type": "markdown",
   "metadata": {},
   "source": [
    "### Create baseline MSE"
   ]
  },
  {
   "cell_type": "code",
   "execution_count": null,
   "metadata": {
    "collapsed": true
   },
   "outputs": [],
   "source": [
    "def baseline_pred(features):\n",
    "    return np.median(train_df['SalePrice'])\n",
    "\n",
    "preds = [baseline_pred(ftrs) for i, ftrs in dev_df.iterrows()]\n",
    "\n",
    "# baseline MSE\n",
    "baseline_MSE = mean_squared_error(preds, dev_df['SalePrice'])"
   ]
  },
  {
   "cell_type": "markdown",
   "metadata": {},
   "source": [
    "### Add new features to dataframee"
   ]
  },
  {
   "cell_type": "code",
   "execution_count": null,
   "metadata": {
    "collapsed": true
   },
   "outputs": [],
   "source": [
    "def full_square_footage(row):\n",
    "    return row['1stFlrSF'] + row['2ndFlrSF']\n",
    "\n",
    "def central_air(row):\n",
    "    return row['CentralAir']=='Y'\n",
    "\n",
    "def get_dummy_columns(train_df, \n",
    "                      dev_df,\n",
    "                      col_to_dummy):\n",
    "    cols_before = train_df.columns\n",
    "    train_df = pd.concat([train_df, pd.get_dummies(train_df[col_to_dummy])], axis=1)\n",
    "    dev_df = pd.concat([dev_df, pd.get_dummies(dev_df[col_to_dummy])], axis=1)\n",
    "    \n",
    "    dummy_cols = [col for col in train_df.columns if col not in cols_before]\n",
    "    \n",
    "    # make sure that any column that gets added in train\n",
    "    # also gets added in dev\n",
    "    # todo: how to make this more robust? what about test data?\n",
    "    for col in dummy_cols:\n",
    "        if col not in dev_df:\n",
    "            dev_df[col] = 0\n",
    "    return train_df, dev_df, dummy_cols\n",
    "\n",
    "    \n",
    "\n",
    "train_df['full_SF'] = train_df.apply(lambda row: full_square_footage(row), axis=1)\n",
    "dev_df['full_SF'] = dev_df.apply(lambda row: full_square_footage(row), axis=1)\n",
    "\n",
    "train_df['CentralAirBool'] = train_df.apply(lambda row: central_air(row), axis=1)\n",
    "dev_df['CentralAirBool'] = dev_df.apply(lambda row: central_air(row), axis=1)\n",
    "\n",
    "train_df['LogSalePrice'] = np.log(train_df['SalePrice'])\n",
    "dev_df['LogSalePrice'] = np.log(dev_df['SalePrice'])\n",
    "\n",
    "\n",
    "train_df, dev_df, neighborhood_dummy_cols = get_dummy_columns(train_df, dev_df, 'Neighborhood')\n",
    "train_df, dev_df, bldg_type_dummy_cols = get_dummy_columns(train_df, dev_df, 'BldgType')\n",
    "train_df, dev_df, overall_qual_dummy_cols = get_dummy_columns(train_df, dev_df, 'OverallQual')\n",
    "train_df, dev_df, house_style_dummy_cols = get_dummy_columns(train_df, dev_df, 'HouseStyle')\n",
    "train_df, dev_df, condition_1_dummy_cols = get_dummy_columns(train_df, dev_df, 'Condition1')\n",
    "train_df, dev_df, ms_zoning_dummy_cols = get_dummy_columns(train_df, dev_df, 'MSZoning')\n",
    "train_df, dev_df, ms_sub_class_dummy_cols = get_dummy_columns(train_df, dev_df, 'MSSubClass')"
   ]
  },
  {
   "cell_type": "code",
   "execution_count": null,
   "metadata": {},
   "outputs": [],
   "source": [
    "def add_secondary_conditions(row, \n",
    "                             condition_rows):\n",
    "    for col in condition_rows:\n",
    "        if row['Condition2'] == col:\n",
    "            row[col] == 1\n",
    "\n",
    "train_df.apply(lambda row: add_secondary_conditions(row, \n",
    "                                                    condition_1_dummy_cols), axis=1)\n",
    "dev_df.apply(lambda row: add_secondary_conditions(row, \n",
    "                                                    condition_1_dummy_cols), axis=1)"
   ]
  },
  {
   "cell_type": "code",
   "execution_count": null,
   "metadata": {},
   "outputs": [],
   "source": [
    "models = [RandomForestRegressor(), RandomForestRegressor(criterion='mae')]\n",
    "outcome_vars = ['LogSalePrice']\n",
    "single_feature_sets = ([features for features in [neighborhood_dummy_cols,\n",
    "                bldg_type_dummy_cols,\n",
    "                ms_zoning_dummy_cols,\n",
    "                house_style_dummy_cols,\n",
    "                overall_qual_dummy_cols, \n",
    "                condition_1_dummy_cols,\n",
    "                ms_sub_class_dummy_cols]] +\n",
    "                [[feature] for feature in \n",
    "                og_columns if train_df[feature].dtypes ==np.int64 \n",
    "                           or train_df[feature].dtypes==np.float\n",
    "                           or train_df[feature].dtypes==np.int32\n",
    "                           or train_df[feature].dtypes==int\n",
    "                           or train_df[feature].dtypes==float])\n",
    "single_feature_sets.remove(['SalePrice'])"
   ]
  },
  {
   "cell_type": "code",
   "execution_count": null,
   "metadata": {},
   "outputs": [],
   "source": [
    "df = try_different_models(train_df, dev_df, models, outcome_vars, single_feature_sets)\n",
    "df.sort_values('Root MSE', ascending=True)"
   ]
  },
  {
   "cell_type": "code",
   "execution_count": null,
   "metadata": {},
   "outputs": [],
   "source": [
    "all_features = ([feature for feature in \n",
    "                og_columns if train_df[feature].dtypes ==np.int64 \n",
    "                           or train_df[feature].dtypes==np.float\n",
    "                           or train_df[feature].dtypes==np.int32\n",
    "                           or train_df[feature].dtypes==int\n",
    "                           or train_df[feature].dtypes==float]\n",
    "               + neighborhood_dummy_cols\n",
    "               + bldg_type_dummy_cols\n",
    "               + ms_zoning_dummy_cols\n",
    "               + house_style_dummy_cols\n",
    "               + overall_qual_dummy_cols \n",
    "               + condition_1_dummy_cols\n",
    "               + ms_sub_class_dummy_cols)\n",
    "all_features.remove('SalePrice')\n",
    "all_features.remove('OverallQual')"
   ]
  },
  {
   "cell_type": "code",
   "execution_count": null,
   "metadata": {},
   "outputs": [],
   "source": [
    "all_features"
   ]
  },
  {
   "cell_type": "code",
   "execution_count": null,
   "metadata": {},
   "outputs": [],
   "source": [
    "top_feature_ideas = [['OverallQual', 'GrLivArea', 'GarageArea', 'GarageCars','TotalBsmtSF'] + neighborhood_dummy_cols,\n",
    "                    ['OverallQual', 'GrLivArea','GarageCars','TotalBsmtSF'] + neighborhood_dummy_cols,\n",
    "                    ['OverallQual', 'GrLivArea', 'GarageArea','TotalBsmtSF'] + neighborhood_dummy_cols,\n",
    "                    ['GrLivArea', 'GarageArea', 'GarageCars','TotalBsmtSF'] \n",
    "                     + neighborhood_dummy_cols \n",
    "                     + overall_qual_dummy_cols,\n",
    "                    ['YearRemodAdd', 'OverallQual', 'GrLivArea', 'GarageArea', 'GarageCars','TotalBsmtSF'] + neighborhood_dummy_cols,\n",
    "                    ['YearRemodAdd', 'OverallQual', 'GrLivArea', 'GarageArea', 'GarageCars','TotalBsmtSF'] \n",
    "                     + neighborhood_dummy_cols\n",
    "                    + ms_sub_class_dummy_cols,\n",
    "                     ['YearRemodAdd', 'GrLivArea', 'GarageArea', 'GarageCars','TotalBsmtSF'] \n",
    "                     + neighborhood_dummy_cols\n",
    "                    + ms_sub_class_dummy_cols\n",
    "                    + bldg_type_dummy_cols\n",
    "                   + ms_zoning_dummy_cols\n",
    "                   + house_style_dummy_cols\n",
    "                   + overall_qual_dummy_cols \n",
    "                   + condition_1_dummy_cols,\n",
    "                    ['YearRemodAdd', 'GrLivArea', 'GarageArea', 'GarageCars','TotalBsmtSF'] \n",
    "                   + ms_zoning_dummy_cols\n",
    "                   + house_style_dummy_cols\n",
    "                   + overall_qual_dummy_cols,\n",
    "                    ['OverallQual', 'YearRemodAdd', 'GrLivArea', 'GarageArea', 'GarageCars','TotalBsmtSF'] \n",
    "                   + ms_zoning_dummy_cols\n",
    "                   + house_style_dummy_cols,\n",
    "                    all_features]\n",
    "df = try_different_models(train_df, dev_df, models, outcome_vars, top_feature_ideas)\n",
    "df.sort_values('Root MSE', ascending=True)"
   ]
  },
  {
   "cell_type": "code",
   "execution_count": null,
   "metadata": {
    "collapsed": true
   },
   "outputs": [],
   "source": []
  },
  {
   "cell_type": "code",
   "execution_count": null,
   "metadata": {
    "collapsed": true
   },
   "outputs": [],
   "source": []
  }
 ],
 "metadata": {
  "kernelspec": {
   "display_name": "Python 3",
   "language": "python",
   "name": "python3"
  },
  "language_info": {
   "codemirror_mode": {
    "name": "ipython",
    "version": 3
   },
   "file_extension": ".py",
   "mimetype": "text/x-python",
   "name": "python",
   "nbconvert_exporter": "python",
   "pygments_lexer": "ipython3",
   "version": "3.6.3"
  }
 },
 "nbformat": 4,
 "nbformat_minor": 2
}
