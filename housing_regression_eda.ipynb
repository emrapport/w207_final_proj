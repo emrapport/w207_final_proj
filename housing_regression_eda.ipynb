{
 "cells": [
  {
   "cell_type": "code",
   "execution_count": null,
   "metadata": {
    "collapsed": true
   },
   "outputs": [],
   "source": [
    "import pandas as pd\n",
    "import numpy as np\n",
    "from matplotlib import pyplot as plt\n",
    "from sklearn.linear_model import LinearRegression, BayesianRidge\n",
    "from sklearn.tree import DecisionTreeRegressor\n",
    "from sklearn.preprocessing import Binarizer, OneHotEncoder, OrdinalEncoder, add_dummy_feature\n",
    "from sklearn.metrics import mean_squared_error\n",
    "import math\n",
    "\n",
    "pd.set_option('max_colwidth', 100)"
   ]
  },
  {
   "cell_type": "code",
   "execution_count": null,
   "metadata": {
    "collapsed": true
   },
   "outputs": [],
   "source": [
    "REDO_EDA = False"
   ]
  },
  {
   "cell_type": "code",
   "execution_count": null,
   "metadata": {
    "collapsed": true
   },
   "outputs": [],
   "source": [
    "data_df = pd.read_csv(r\"../all/train.csv\", index_col=0)\n",
    "with open(r\"../all/data_description.txt\", 'r') as file:\n",
    "    data_desc = file.readlines()"
   ]
  },
  {
   "cell_type": "code",
   "execution_count": null,
   "metadata": {
    "collapsed": true
   },
   "outputs": [],
   "source": [
    "data_df.head()"
   ]
  },
  {
   "cell_type": "code",
   "execution_count": null,
   "metadata": {
    "collapsed": true
   },
   "outputs": [],
   "source": [
    "og_columns = data_df.columns\n",
    "og_columns"
   ]
  },
  {
   "cell_type": "markdown",
   "metadata": {},
   "source": [
    "### Print out analysis graphs "
   ]
  },
  {
   "cell_type": "code",
   "execution_count": null,
   "metadata": {
    "collapsed": true
   },
   "outputs": [],
   "source": [
    "%%capture cap --no-stderr\n",
    "if REDO_EDA:\n",
    "    # TODO: need to remine the descriptions if i want that part to work\n",
    "    for column in data_df:\n",
    "        if column in cols_w_descripts:\n",
    "            entry = [item for item in data_desc if column + \":\" in item]\n",
    "            print(column + \": \" + entry[0].split(column + \":\")[1].split('\\n')[0])\n",
    "        print(data_df[column].value_counts())\n",
    "        try:\n",
    "            plt.hist(data_df[column])\n",
    "            plt.title(column)\n",
    "            plt.savefig(\"../analysis/\" + column + \".jpg\")\n",
    "            plt.plot(data_df[column], data_df['SalePrice'], 'bo')\n",
    "            plt.title(column + \" vs SalePrice\")\n",
    "            plt.savefig(\"../analysis/\" + column + \"_vs_saleprice.jpg\")\n",
    "            plt.show()\n",
    "        except:\n",
    "            pass\n",
    "\n",
    "    with open('../analysis/output.txt', 'w') as f:\n",
    "        f.write(cap.stdout)"
   ]
  },
  {
   "cell_type": "markdown",
   "metadata": {},
   "source": [
    "### Split into train, dev"
   ]
  },
  {
   "cell_type": "code",
   "execution_count": null,
   "metadata": {
    "collapsed": true
   },
   "outputs": [],
   "source": [
    "split_idx = int(data_df.shape[0] * .9)\n",
    "data_df = data_df.sample(frac=1)\n",
    "train_df = data_df[:split_idx]\n",
    "dev_df = data_df[split_idx:]\n",
    "del data_df\n",
    "print(train_df.shape)\n",
    "print(dev_df.shape)\n",
    "train_df.head()"
   ]
  },
  {
   "cell_type": "markdown",
   "metadata": {},
   "source": [
    "### Create baseline MSE"
   ]
  },
  {
   "cell_type": "code",
   "execution_count": null,
   "metadata": {
    "collapsed": true
   },
   "outputs": [],
   "source": [
    "def baseline_pred(features):\n",
    "    return np.median(train_df['SalePrice'])\n",
    "\n",
    "preds = [baseline_pred(ftrs) for i, ftrs in dev_df.iterrows()]\n",
    "\n",
    "# baseline MSE\n",
    "baseline_MSE = mean_squared_error(preds, dev_df['SalePrice'])"
   ]
  },
  {
   "cell_type": "markdown",
   "metadata": {},
   "source": [
    "### Add new features to dataframee"
   ]
  },
  {
   "cell_type": "code",
   "execution_count": null,
   "metadata": {
    "collapsed": true
   },
   "outputs": [],
   "source": [
    "def full_square_footage(row):\n",
    "    return row['1stFlrSF'] + row['2ndFlrSF']\n",
    "\n",
    "def central_air(row):\n",
    "    return row['CentralAir']=='Y'\n",
    "\n",
    "def get_dummy_columns(train_df, \n",
    "                      dev_df,\n",
    "                      col_to_dummy):\n",
    "    cols_before = train_df.columns\n",
    "    train_df = pd.concat([train_df, pd.get_dummies(train_df[col_to_dummy])], axis=1)\n",
    "    dev_df = pd.concat([dev_df, pd.get_dummies(dev_df[col_to_dummy])], axis=1)\n",
    "    \n",
    "    neighborhood_dummy_cols = [col for col in train_df.columns if col not in cols_before]\n",
    "    \n",
    "    # make sure that any column that gets added in train\n",
    "    # also gets added in dev\n",
    "    # todo: how to make this more robust? what about test data?\n",
    "    for col in neighborhood_dummy_cols:\n",
    "        if col not in dev_df:\n",
    "            dev_df[col] = 0\n",
    "    return train_df, dev_df, neighborhood_dummy_cols\n",
    "\n",
    "    \n",
    "\n",
    "train_df['full_SF'] = train_df.apply(lambda row: full_square_footage(row), axis=1)\n",
    "dev_df['full_SF'] = dev_df.apply(lambda row: full_square_footage(row), axis=1)\n",
    "\n",
    "train_df['CentralAirBool'] = train_df.apply(lambda row: central_air(row), axis=1)\n",
    "dev_df['CentralAirBool'] = dev_df.apply(lambda row: central_air(row), axis=1)\n",
    "\n",
    "\n",
    "train_df, dev_df, neighborhood_dummy_cols = get_dummy_columns(train_df, dev_df, 'Neighborhood')\n",
    "train_df, dev_df, bldg_type_dummy_cols = get_dummy_columns(train_df, dev_df, 'BldgType')\n",
    "train_df, dev_df, overall_qual_dummy_cols = get_dummy_columns(train_df, dev_df, 'OverallQual')\n",
    "train_df, dev_df, house_style_dummy_cols = get_dummy_columns(train_df, dev_df, 'HouseStyle')\n",
    "train_df, dev_df, condition_1_dummy_cols = get_dummy_columns(train_df, dev_df, 'Condition1')"
   ]
  },
  {
   "cell_type": "code",
   "execution_count": null,
   "metadata": {
    "collapsed": true
   },
   "outputs": [],
   "source": [
    "def add_secondary_conditions(row, \n",
    "                             condition_rows):\n",
    "    for col in condition_rows:\n",
    "        if row['Condition2'] == col:\n",
    "            row[col] == 1\n",
    "\n",
    "train_df.apply(lambda row: add_secondary_conditions(row, \n",
    "                                                    condition_1_dummy_cols), axis=1)\n",
    "dev_df.apply(lambda row: add_secondary_conditions(row, \n",
    "                                                    condition_1_dummy_cols), axis=1)"
   ]
  },
  {
   "cell_type": "code",
   "execution_count": null,
   "metadata": {
    "collapsed": true
   },
   "outputs": [],
   "source": [
    "outputs = []\n",
    "\n",
    "def rmsle(y, y_pred):\n",
    "    assert len(y) == len(y_pred)\n",
    "    terms_to_sum = [(math.log(y_pred[i] + 1) - math.log(y.iloc[i] + 1)) ** 2.0 for i,pred in enumerate(y_pred)]\n",
    "    return (sum(terms_to_sum) * (1.0/len(y))) ** 0.5\n",
    "\n",
    "\n",
    "def train_and_compare(model, \n",
    "                      params,\n",
    "                      features, \n",
    "                      comparison):\n",
    "    model = model()\n",
    "    fit_model = model.fit(train_df[features], train_df['SalePrice'])\n",
    "    dev_preds = fit_model.predict(dev_df[features])\n",
    "    mse = mean_squared_error(dev_preds, dev_df['SalePrice'])\n",
    "    rmse = rmsle(dev_df['SalePrice'], dev_preds)\n",
    "    print(\"\\nMean squared error: {:.2f} \".format(mse))\n",
    "    print(\"Change in MSE from comparison: {:.2f}\".format(mse - comparison))\n",
    "    return model, mse, rmse, features\n",
    "    \n",
    "outputs.append(train_and_compare(LinearRegression, \n",
    "                                 {},\n",
    "                                ['full_SF'],\n",
    "                                baseline_MSE))\n",
    "\n",
    "outputs.append(train_and_compare(LinearRegression,\n",
    "                                 {},\n",
    "                                 ['1stFlrSF', '2ndFlrSF'],\n",
    "                                 baseline_MSE))\n",
    "\n",
    "outputs.append(train_and_compare(LinearRegression,\n",
    "                                {},\n",
    "                                ['1stFlrSF', '2ndFlrSF', 'FullBath', 'BedroomAbvGr'],\n",
    "                                baseline_MSE))\n",
    "\n",
    "outputs.append(train_and_compare(DecisionTreeRegressor,\n",
    "                                 {},\n",
    "                                  ['1stFlrSF', '2ndFlrSF', 'FullBath', 'BedroomAbvGr'],\n",
    "                                 baseline_MSE))\n",
    "\n",
    "\n",
    "outputs.append(train_and_compare(LinearRegression,\n",
    "                                {},\n",
    "                                ['1stFlrSF', '2ndFlrSF', 'FullBath', 'BedroomAbvGr'] + neighborhood_dummy_cols,\n",
    "                                baseline_MSE))\n",
    "\n",
    "outputs.append(train_and_compare(LinearRegression,\n",
    "                                {},\n",
    "                                (['1stFlrSF', '2ndFlrSF', 'FullBath', 'BedroomAbvGr']\n",
    "                                 + bldg_type_dummy_cols\n",
    "                                 + neighborhood_dummy_cols),\n",
    "                                baseline_MSE))\n",
    "\n",
    "outputs.append(train_and_compare(LinearRegression,\n",
    "                                {},\n",
    "                                (['1stFlrSF', '2ndFlrSF', 'FullBath', 'BedroomAbvGr', 'OverallQual']\n",
    "                                 + bldg_type_dummy_cols\n",
    "                                 + neighborhood_dummy_cols),\n",
    "                                baseline_MSE))\n",
    "\n",
    "outputs.append(train_and_compare(LinearRegression,\n",
    "                                {},\n",
    "                                (['1stFlrSF', '2ndFlrSF', 'FullBath', 'BedroomAbvGr']\n",
    "                                 + bldg_type_dummy_cols\n",
    "                                 + neighborhood_dummy_cols\n",
    "                                 + overall_qual_dummy_cols),\n",
    "                                baseline_MSE))\n",
    "\n",
    "outputs.append(train_and_compare(LinearRegression,\n",
    "                                {},\n",
    "                                (['1stFlrSF', '2ndFlrSF', 'FullBath', 'BedroomAbvGr']\n",
    "                                 + bldg_type_dummy_cols\n",
    "                                 + neighborhood_dummy_cols\n",
    "                                 + overall_qual_dummy_cols\n",
    "                                 + house_style_dummy_cols),\n",
    "                                baseline_MSE))\n",
    "\n",
    "outputs.append(train_and_compare(LinearRegression,\n",
    "                                {},\n",
    "                                (['1stFlrSF', '2ndFlrSF', 'FullBath', 'BedroomAbvGr']\n",
    "                                 + bldg_type_dummy_cols\n",
    "                                 + neighborhood_dummy_cols\n",
    "                                 + overall_qual_dummy_cols\n",
    "                                 + house_style_dummy_cols),\n",
    "                                baseline_MSE))\n",
    "\n",
    "outputs.append(train_and_compare(LinearRegression,\n",
    "                                {},\n",
    "                                (['1stFlrSF', '2ndFlrSF', 'FullBath', 'BedroomAbvGr', 'CentralAirBool']\n",
    "                                 + bldg_type_dummy_cols\n",
    "                                 + neighborhood_dummy_cols\n",
    "                                 + overall_qual_dummy_cols\n",
    "                                 + house_style_dummy_cols\n",
    "                                 + condition_1_dummy_cols),\n",
    "                                baseline_MSE))\n",
    "\n",
    "outputs.append(train_and_compare(BayesianRidge,\n",
    "                                {},\n",
    "                                (['1stFlrSF', '2ndFlrSF', 'FullBath', 'BedroomAbvGr', 'CentralAirBool']\n",
    "                                 + bldg_type_dummy_cols\n",
    "                                 + neighborhood_dummy_cols\n",
    "                                 + overall_qual_dummy_cols\n",
    "                                 + house_style_dummy_cols\n",
    "                                 + condition_1_dummy_cols),\n",
    "                                baseline_MSE))\n",
    "\n",
    "outputs.append(train_and_compare(DecisionTreeRegressor,\n",
    "                                {},\n",
    "                                ['1stFlrSF', '2ndFlrSF', 'FullBath', 'BedroomAbvGr'] + neighborhood_dummy_cols,\n",
    "                                baseline_MSE))"
   ]
  },
  {
   "cell_type": "code",
   "execution_count": null,
   "metadata": {
    "collapsed": true
   },
   "outputs": [],
   "source": [
    "models = [item[0] for item in outputs]\n",
    "mses = [item[1] for item in outputs]\n",
    "rmses = [item[2] for item in outputs]\n",
    "features = [item[3] for item in outputs]\n",
    "scores_df = pd.DataFrame(data={'Model': models, 'Features': features, 'Root MSE': rmses, 'MSE': mses})\n",
    "scores_df.sort_values('Root MSE', ascending=True)"
   ]
  },
  {
   "cell_type": "code",
   "execution_count": null,
   "metadata": {
    "collapsed": true
   },
   "outputs": [],
   "source": []
  }
 ],
 "metadata": {
  "kernelspec": {
   "display_name": "Python 3",
   "language": "python",
   "name": "python3"
  },
  "language_info": {
   "codemirror_mode": {
    "name": "ipython",
    "version": 3
   },
   "file_extension": ".py",
   "mimetype": "text/x-python",
   "name": "python",
   "nbconvert_exporter": "python",
   "pygments_lexer": "ipython3",
   "version": "3.6.3"
  }
 },
 "nbformat": 4,
 "nbformat_minor": 2
}
